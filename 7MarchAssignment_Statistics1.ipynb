{
 "cells": [
  {
   "cell_type": "code",
   "execution_count": 1,
   "id": "984b78eb-3c15-4d09-a5f2-c02c4667025b",
   "metadata": {},
   "outputs": [],
   "source": [
    "#1\n",
    "#Three measures of central tendency are mean, median, and mode."
   ]
  },
  {
   "cell_type": "code",
   "execution_count": 3,
   "id": "1c1b5715-dc29-4e66-9275-4f3616dee417",
   "metadata": {},
   "outputs": [
    {
     "data": {
      "text/plain": [
       "'\\n- Mean is the average value of the given observations.\\n \\n-Median is the middle value of the given observations. To find the median, you first need to arrange all the given numbers in ascending order.\\nIf there is an odd number of values, the median is the middle number. If there is an even number of values, the median is the average of the two middle numbers.\\n\\n-Mode is the most repeated value in the given observation.\\n\\n\\x0eMean-It is calculated by adding up all the numbers in a data set and then dividing by the total number of values.\\n\\n\\x0eMedian- To find the median, you first need to arrange all the given numbers in ascending order.\\n           If there is an odd number of values, the median is the middle number. If there is an even number of values, the median is the average\\n           of the two middle numbers.\\n\\n\\x0eMode- . It shows the frequency of occurrence and can have more than one mode or no mode at all.'"
      ]
     },
     "execution_count": 3,
     "metadata": {},
     "output_type": "execute_result"
    }
   ],
   "source": [
    "#2.\n",
    "\"\"\"\n",
    "- Mean is the average value of the given observations.\n",
    " \n",
    "-Median is the middle value of the given observations. To find the median, you first need to arrange all the given numbers in ascending order.\n",
    "If there is an odd number of values, the median is the middle number. If there is an even number of values, the median is the average of the two middle numbers.\n",
    "\n",
    "-Mode is the most repeated value in the given observation.\n",
    "\n",
    "\u000eMean-It is calculated by adding up all the numbers in a data set and then dividing by the total number of values.\n",
    "\n",
    "\u000eMedian- To find the median, you first need to arrange all the given numbers in ascending order.\n",
    "           If there is an odd number of values, the median is the middle number. If there is an even number of values, the median is the average\n",
    "           of the two middle numbers.\n",
    "\n",
    "\u000eMode- . It shows the frequency of occurrence and can have more than one mode or no mode at all.\"\"\""
   ]
  },
  {
   "cell_type": "code",
   "execution_count": 8,
   "id": "8b5af066-5359-40d3-85e9-039c279e7160",
   "metadata": {},
   "outputs": [],
   "source": [
    "#3.\n",
    "import numpy as np\n",
    "height = [178,177,176,177,178.2,178,175,179,180,175,178.9,176.2,177,172.5,178,176.5]"
   ]
  },
  {
   "cell_type": "code",
   "execution_count": 9,
   "id": "193cc665-9598-4000-8221-a015d65a8787",
   "metadata": {},
   "outputs": [
    {
     "data": {
      "text/plain": [
       "177.01875"
      ]
     },
     "execution_count": 9,
     "metadata": {},
     "output_type": "execute_result"
    }
   ],
   "source": [
    "#Mean\n",
    "np.mean(height)"
   ]
  },
  {
   "cell_type": "code",
   "execution_count": 10,
   "id": "e190723f-7da5-4379-aa91-313e5cc928d0",
   "metadata": {},
   "outputs": [
    {
     "data": {
      "text/plain": [
       "177.0"
      ]
     },
     "execution_count": 10,
     "metadata": {},
     "output_type": "execute_result"
    }
   ],
   "source": [
    "#Median\n",
    "np.median(height)"
   ]
  },
  {
   "cell_type": "code",
   "execution_count": 15,
   "id": "84778723-7f65-4a17-9b2f-a080221184cc",
   "metadata": {},
   "outputs": [
    {
     "name": "stdout",
     "output_type": "stream",
     "text": [
      "ModeResult(mode=array([177.]), count=array([3]))\n"
     ]
    },
    {
     "name": "stderr",
     "output_type": "stream",
     "text": [
      "/tmp/ipykernel_112/1493548835.py:3: FutureWarning: Unlike other reduction functions (e.g. `skew`, `kurtosis`), the default behavior of `mode` typically preserves the axis it acts along. In SciPy 1.11.0, this behavior will change: the default value of `keepdims` will become False, the `axis` over which the statistic is taken will be eliminated, and the value None will no longer be accepted. Set `keepdims` to True or False to avoid this warning.\n",
      "  mode=stats.mode(height)\n"
     ]
    }
   ],
   "source": [
    "#mode\n",
    "from scipy import stats\n",
    "mode=stats.mode(height)\n",
    "print(mode)"
   ]
  },
  {
   "cell_type": "code",
   "execution_count": 17,
   "id": "b8836e22-b42e-4803-91d0-37e0f0e811f0",
   "metadata": {},
   "outputs": [
    {
     "data": {
      "text/plain": [
       "1.7885814036548633"
      ]
     },
     "execution_count": 17,
     "metadata": {},
     "output_type": "execute_result"
    }
   ],
   "source": [
    "#4\n",
    "#Standard Deviation\n",
    "std=[178,177,176,177,178.2,178,175,179,180,175,178.9,176.2,177,172.5,178,176.5]\n",
    "np.std(std)"
   ]
  },
  {
   "cell_type": "raw",
   "id": "9eea812a-de96-46d9-afc3-49fe6ae332da",
   "metadata": {},
   "source": [
    "#5\n",
    "Measures of dispersion such as range, variance, and standard deviation are used to describe the spread or variability of a dataset. These measures provide information about how spread out the data is from its center point, which is typically represented by the mean or median.\n",
    "\n",
    "Range -is the difference between the largest and smallest values in a dataset. It is one of the simplest methods to find the measure of dispersion/variability. For example, consider a dataset with the values 4, 6, 9, 3, and 7. The range would be calculated by subtracting the smallest value (3) from the largest value (9), resulting in a range of 6.\n",
    "\n",
    "Variance- is another measure of dispersion/variability that gives information about how data points vary from the mean. It is calculated by taking the average of the squared differences between each data point and the mean.\n",
    "\n",
    "Standard- deviation** is the square root of the variance. It is a measure of how spread out the data is from its mean.\n",
    "\n",
    "These measures can be useful in understanding the distribution of data and identifying any outliers or extreme values. For example, a dataset with a large range or high variance/standard deviation may indicate that there are some extreme values that are significantly different from the rest of the data. On the other hand, a dataset with a small range or low variance/standard deviation may indicate that the data is more tightly clustered around its center point.\n",
    "\n"
   ]
  },
  {
   "cell_type": "code",
   "execution_count": 1,
   "id": "5cdeb5a4-794e-4ed3-bea3-9428bbe1ed29",
   "metadata": {},
   "outputs": [],
   "source": [
    "#6\n",
    "# Venn diagram is a diagram that shows the logical relationships between a finite collection of different sets."
   ]
  },
  {
   "cell_type": "code",
   "execution_count": 2,
   "id": "3e09bc48-263b-40e8-a175-a67ebe275ca6",
   "metadata": {},
   "outputs": [],
   "source": [
    "#7\n",
    "#i) A∩B ={2,6}\n",
    "#ii) A⋃B= {0,2,3,4,5,6,7,8,10}"
   ]
  },
  {
   "cell_type": "code",
   "execution_count": 1,
   "id": "5df84d5f-b9c5-4d99-bc4a-19d21811b8eb",
   "metadata": {},
   "outputs": [],
   "source": [
    "#8\n",
    "#Skewness is a measure of the asymmetry of a distribution."
   ]
  },
  {
   "cell_type": "code",
   "execution_count": 2,
   "id": "089f0dc1-4bab-4055-a84a-3ac1039773cf",
   "metadata": {},
   "outputs": [
    {
     "data": {
      "text/plain": [
       "'The position of median with respect to mean in right skewed will be left of mean,  that is   Mean > Median > Mode'"
      ]
     },
     "execution_count": 2,
     "metadata": {},
     "output_type": "execute_result"
    }
   ],
   "source": [
    "#9\n",
    "\"\"\"The position of median with respect to mean in right skewed will be left of mean,  that is   Mean > Median > Mode\"\"\" "
   ]
  },
  {
   "cell_type": "raw",
   "id": "b5b528a8-aaf6-4fe9-90ba-c54394514af0",
   "metadata": {},
   "source": [
    "#10\n",
    "Covariance and correlation help us to understand the relationship between two variables. Covariance indicates the direction of the linear relationship between two variables, while correlation provides an indication as to how strong the relationship between the two variables is, in addition to the direction of correlated variables.\n",
    "\n",
    "Covariance reveals how two variables change together while correlation determines how closely two variables are related to each other. Both covariance and correlation measure the relationship and the dependency between two variables. Correlation values are standardized, meaning they range from +1 to -1, whereas covariance values are not standardized.\n",
    "\n"
   ]
  },
  {
   "cell_type": "code",
   "execution_count": 3,
   "id": "b7786ec5-1def-44f2-ab05-0974458aa7f3",
   "metadata": {},
   "outputs": [
    {
     "data": {
      "text/plain": [
       "'To calculate the sample mean, you sum up all the values in the sample and then divide by the number of values\\nin the sample'"
      ]
     },
     "execution_count": 3,
     "metadata": {},
     "output_type": "execute_result"
    }
   ],
   "source": [
    "#11\n",
    "\"\"\"To calculate the sample mean, you sum up all the values in the sample and then divide by the number of values\n",
    "in the sample\"\"\""
   ]
  },
  {
   "cell_type": "code",
   "execution_count": 19,
   "id": "fbe43162-709b-442c-86bf-220a1c3acd90",
   "metadata": {},
   "outputs": [
    {
     "name": "stdout",
     "output_type": "stream",
     "text": [
      "mean : 3.0\n"
     ]
    }
   ],
   "source": [
    "#11\n",
    "a= [1,2,3,4,5]\n",
    "# To calculate sample mean\n",
    "sm =1+2+3+4+5\n",
    "print(\"mean :\", sm/5)\n"
   ]
  },
  {
   "cell_type": "code",
   "execution_count": 3,
   "id": "c54a0c21-b64d-48c0-84b1-87a20d4dd85f",
   "metadata": {},
   "outputs": [
    {
     "data": {
      "text/plain": [
       "'For a normal distribution, the measures of central tendency, such as the mean, median, and mode, are all equal\\nto each other. i.e. the relationship between its measures of central tendency is that \\nthe mean, median, and mode are all equal and located at the center of the distribution.'"
      ]
     },
     "execution_count": 3,
     "metadata": {},
     "output_type": "execute_result"
    }
   ],
   "source": [
    "#12\n",
    "\"\"\"For a normal distribution, the measures of central tendency, such as the mean, median, and mode, are all equal\n",
    "to each other. i.e. the relationship between its measures of central tendency is that \n",
    "the mean, median, and mode are all equal and located at the center of the distribution.\"\"\""
   ]
  },
  {
   "cell_type": "code",
   "execution_count": 4,
   "id": "df326eb7-60bf-4690-a6a2-74c8370c48e3",
   "metadata": {},
   "outputs": [
    {
     "data": {
      "text/plain": [
       "'Covariance indicates the direction of the linear relationship between variables. Correlation on the other \\nhand measures both the strength and direction of the linear relationship between two variables'"
      ]
     },
     "execution_count": 4,
     "metadata": {},
     "output_type": "execute_result"
    }
   ],
   "source": [
    "#13\n",
    "\"\"\"Covariance indicates the direction of the linear relationship between variables. Correlation on the other \n",
    "hand measures both the strength and direction of the linear relationship between two variables\"\"\""
   ]
  },
  {
   "cell_type": "raw",
   "id": "446b36fd-107a-4830-ba62-9eb7f3cb4be8",
   "metadata": {},
   "source": [
    "#14\n",
    "Outliers can have a significant impact on measures of central tendency and dispersion. For example, the mean is most heavily influenced by any outliers or skewness. When an outlier is present, it can affect the shape of the graph. If we have outliers to the right of the graph, these outliers are causing the mean to increase, but if we have outliers to the left of the graph, these outliers are dragging down the mean. This causes a conflict because the mean no longer provides a good representation of the data. In such cases, we would much rather use the median as it is less likely to be affected by outliers.\n",
    "\n",
    "For example, consider a dataset with values [1, 2, 3, 4, 5]. The mean of this dataset is (1+2+3+4+5)/5 = 3. Now, let's add an outlier value of 100 to this dataset. The new dataset is [1, 2, 3, 4, 5, 100]. The mean of this new dataset is (1+2+3+4+5+100)/6 = 19.17. As you can see, the presence of an outlier has significantly increased the mean value.\n",
    "\n",
    "\n",
    "\n"
   ]
  },
  {
   "cell_type": "code",
   "execution_count": null,
   "id": "7f1377ac-d369-4099-8d9f-9276fa0be111",
   "metadata": {},
   "outputs": [],
   "source": []
  }
 ],
 "metadata": {
  "kernelspec": {
   "display_name": "Python 3 (ipykernel)",
   "language": "python",
   "name": "python3"
  },
  "language_info": {
   "codemirror_mode": {
    "name": "ipython",
    "version": 3
   },
   "file_extension": ".py",
   "mimetype": "text/x-python",
   "name": "python",
   "nbconvert_exporter": "python",
   "pygments_lexer": "ipython3",
   "version": "3.10.8"
  }
 },
 "nbformat": 4,
 "nbformat_minor": 5
}
